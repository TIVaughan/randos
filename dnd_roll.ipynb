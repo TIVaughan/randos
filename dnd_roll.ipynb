{
 "cells": [
  {
   "cell_type": "code",
   "execution_count": 2,
   "source": [
    "from random import randint\r\n",
    "\r\n",
    "def d(sides):\r\n",
    "    return randint(1, sides)\r\n",
    "\r\n",
    "def roll(n, sides):\r\n",
    "    return tuple(d(sides) for _ in range(n))\r\n",
    "\r\n",
    "dice = roll(2, 6)\r\n",
    "print(dice, sum(dice))\r\n"
   ],
   "outputs": [
    {
     "output_type": "stream",
     "name": "stdout",
     "text": [
      "(3, 4) 7\n"
     ]
    }
   ],
   "metadata": {}
  },
  {
   "cell_type": "code",
   "execution_count": null,
   "source": [],
   "outputs": [],
   "metadata": {}
  }
 ],
 "metadata": {
  "orig_nbformat": 4,
  "language_info": {
   "name": "python",
   "version": "3.8.3",
   "mimetype": "text/x-python",
   "codemirror_mode": {
    "name": "ipython",
    "version": 3
   },
   "pygments_lexer": "ipython3",
   "nbconvert_exporter": "python",
   "file_extension": ".py"
  },
  "kernelspec": {
   "name": "python3",
   "display_name": "Python 3.8.3 64-bit"
  },
  "interpreter": {
   "hash": "bfe4c7f15647686ecf5b9065b50df585984815c4930cbe0799a304e35ae27852"
  }
 },
 "nbformat": 4,
 "nbformat_minor": 2
}